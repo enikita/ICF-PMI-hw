{
 "cells": [
  {
   "cell_type": "code",
   "execution_count": 1,
   "metadata": {},
   "outputs": [],
   "source": [
    "import numpy as np\n",
    "import random\n",
    "import pandas as pd\n",
    "import time\n",
    "import matplotlib.pyplot as plt"
   ]
  },
  {
   "cell_type": "code",
   "execution_count": 2,
   "metadata": {},
   "outputs": [],
   "source": [
    "r_cols = ['user_id', 'movie_id', 'rating', 'unix_timestamp']\n",
    "ratings = pd.read_csv('ml-100k/u.data', sep='\\t', names=r_cols,\n",
    "                      encoding='latin-1')"
   ]
  },
  {
   "cell_type": "code",
   "execution_count": 3,
   "metadata": {},
   "outputs": [
    {
     "name": "stdout",
     "output_type": "stream",
     "text": [
      "(71321, 4)\n",
      "(28679, 4)\n"
     ]
    }
   ],
   "source": [
    "##Data split: users\n",
    "k = 15\n",
    "\n",
    "users = ratings.user_id.unique()\n",
    "items = ratings.movie_id.unique()\n",
    "n_items = len(items)\n",
    "n_users = len(users)\n",
    "\n",
    "train_users = random.sample(users,660)\n",
    "mask = ratings['user_id'].isin(train_users)\n",
    "\n",
    "train_ratings = ratings.loc[mask]\n",
    "test_ratings = ratings.loc[~mask]\n",
    "\n",
    "print train_ratings.shape\n",
    "print test_ratings.shape\n",
    "\n"
   ]
  },
  {
   "cell_type": "code",
   "execution_count": 4,
   "metadata": {},
   "outputs": [],
   "source": [
    "user_films = {}\n",
    "\n",
    "for user in train_users:\n",
    "    rated_films = train_ratings['movie_id'].loc[train_ratings['user_id'] == user]\n",
    "    user_films[user] = list(rated_films.values)\n"
   ]
  },
  {
   "cell_type": "code",
   "execution_count": 5,
   "metadata": {},
   "outputs": [],
   "source": [
    "#Initialise\n",
    "sig_p = 0.1\n",
    "sig = 1\n",
    "lamda_p = sig/sig_p\n",
    "\n",
    "param_items = {}\n",
    "param_users = {}\n",
    "\n",
    "for item in items:\n",
    "    param_items[item] = [ np.zeros(k) , np.identity(k)*sig_p]\n",
    "\n",
    "for user in users:\n",
    "    param_users[user] = [ np.zeros(k) , np.identity(k)*sig_p]\n",
    "    \n"
   ]
  },
  {
   "cell_type": "code",
   "execution_count": 6,
   "metadata": {},
   "outputs": [],
   "source": [
    "#Train\n",
    "\n",
    "T = 10\n",
    "X=0.01*np.identity(k)\n",
    "for user in train_users:\n",
    "    A = np.identity(k)*lamda_p\n",
    "    b = np.zeros((k,1))\n",
    "    for _ in range(1,T):\n",
    "#         try:\n",
    "#             i = np.linalg.svd(A)\n",
    "#             i = np.linalg.inv(A)\n",
    "#         except np.linalg.LinAlgError as err:\n",
    "#             print('error_A')\n",
    "#             print(A)\n",
    "#             break;\n",
    "        \n",
    "        param_users[user] = [np.matmul(np.linalg.inv(A),b), np.linalg.inv(A)*sig ]\n",
    "        p_u = np.random.multivariate_normal(param_users[user][0].reshape((k,)),param_users[user][1])\n",
    "        \n",
    "        item_star = 0\n",
    "        q_star = 0\n",
    "        reward_dot = float('-inf')\n",
    "        \n",
    "        #Get a q\n",
    "        random.shuffle(user_films[user])\n",
    "        for item in user_films[user]:\n",
    "            q_i = np.random.multivariate_normal(param_items[item][0].reshape((k,)),param_items[item][1])\n",
    "            r = np.matmul(p_u.T,q_i)+ 0.03*pow(np.matmul(np.matmul(q_i.T,param_items[item][1]),q_i),0.5)\n",
    "            if (r > reward_dot):\n",
    "                reward_dot = r\n",
    "                item_star = item\n",
    "                q_star = q_i\n",
    "        \n",
    "\n",
    "        Actual_reward = ratings['rating'].loc[(ratings['user_id'] == user) &\n",
    "                                                      (ratings['movie_id'] == item)].values\n",
    "        \n",
    "        #User Updates\n",
    "        q_star = q_star.reshape((k,1))\n",
    "        A = A+ np.matmul(q_star,q_star.T)\n",
    "#         A = A/np.linalg.norm(A)\n",
    "        b = b+ Actual_reward*q_star\n",
    "#         b = b/np.linalg.norm(b)\n",
    "        \n",
    "        #Item Updates\n",
    "        C = param_items[item_star][1]/sig\n",
    "        \n",
    "#         try:\n",
    "#             i = np.linalg.inv(C)\n",
    "#         except np.linalg.LinAlgError as err:\n",
    "#             print('error_Cx')\n",
    "#             break;\n",
    "        \n",
    "        \n",
    "        p_u = p_u.reshape((k,1))\n",
    "        C = np.linalg.inv(C)\n",
    "        d = np.matmul(C,param_items[item_star][0])\n",
    "        C = C+ np.matmul(p_u,p_u.T)\n",
    "#         C = C/np.linalg.norm(C)\n",
    "        d = d+ Actual_reward*p_u.reshape((k,))\n",
    "#         d = d/np.linalg.norm(d)\n",
    "        \n",
    "#         try:\n",
    "#             i = np.linalg.inv(C)\n",
    "#             i = np.linalg.svd(C)\n",
    "#         except np.linalg.LinAlgError as err:\n",
    "#             print('error')\n",
    "#             print(C)\n",
    "#             continue;\n",
    "\n",
    "        \n",
    "        param_items[item] = [np.matmul(np.linalg.inv(C),d), np.linalg.inv(C)*sig]\n",
    "        user_films[user].remove(item_star)\n",
    "\n",
    "            \n",
    "            \n",
    "        \n",
    "        \n"
   ]
  },
  {
   "cell_type": "code",
   "execution_count": 15,
   "metadata": {},
   "outputs": [],
   "source": [
    "test_users= np.setdiff1d(users,train_users)\n",
    "test_user_films = {}\n",
    "\n",
    "for user in test_users:\n",
    "    test_rated_films = test_ratings['movie_id'].loc[test_ratings['user_id'] == user]\n",
    "    test_user_films[user] = list(test_rated_films.values)\n",
    "\n",
    "#Initialize new users\n",
    "test_users_top10={}\n",
    "#Learn test user features\n",
    "hits={}\n",
    "for user in test_users[:10]:\n",
    "    hits[user]=0\n",
    "    A = np.identity(k)*lamda_p\n",
    "    b = np.zeros((k,1))\n",
    "    for _ in range(1,T):\n",
    "\n",
    "        param_users[user] = [np.matmul(np.linalg.inv(A),b), np.linalg.inv(A)*sig ]\n",
    "        p_u = np.random.multivariate_normal(param_users[user][0].reshape((k,)),param_users[user][1])\n",
    "        \n",
    "        item_star = 0\n",
    "        q_star = np.zeros((k,1))\n",
    "        reward_dot = float('-inf')\n",
    "        \n",
    "        #Get a q\n",
    "        random.shuffle(test_user_films[user])\n",
    "        for item in test_user_films[user]:\n",
    "            q_i = np.random.multivariate_normal(param_items[item][0].reshape((k,)),param_items[item][1])\n",
    "            r = np.matmul(p_u.T,q_i)+0.03*pow(np.matmul(np.matmul(q_i.T,param_items[item][1]),q_i),0.5)\n",
    "            if (r > reward_dot):\n",
    "                reward_dot = r\n",
    "                item_star = item\n",
    "                q_star = q_i\n",
    "        \n",
    "\n",
    "        Actual_reward = ratings['rating'].loc[(ratings['user_id'] == user) &\n",
    "                                                      (ratings['movie_id'] == item)].values\n",
    "        test_user_films[user].remove(item_star)\n",
    "        #check for hits \n",
    "        if (Actual_reward>3):\n",
    "            hits[user]+=1\n",
    "        \n",
    "        #User Updates\n",
    "        q_star = q_star.reshape((k,1))\n",
    "        A = A+ np.matmul(q_star,q_star.T)\n",
    "        b = b+ Actual_reward*q_star\n",
    "    \n",
    "    temp_items= []\n",
    "    for item in items:\n",
    "        q_i = np.random.multivariate_normal(param_items[item][0].reshape((k,)),param_items[item][1])\n",
    "        Actual_reward = ratings['rating'].loc[(ratings['user_id'] == user) &\n",
    "                                                      (ratings['movie_id'] == item)].values\n",
    "        if len(Actual_reward)==0:\n",
    "            Actual_reward = None\n",
    "        r = np.matmul(p_u.T,q_i)\n",
    "        temp_items.append([r,item,Actual_reward])\n",
    "    from operator import itemgetter\n",
    "    temp_items=sorted(temp_items , key= itemgetter(0))\n",
    "    test_users_top10[user]=temp_items[0:10] \n",
    "      "
   ]
  },
  {
   "cell_type": "code",
   "execution_count": 20,
   "metadata": {},
   "outputs": [
    {
     "name": "stdout",
     "output_type": "stream",
     "text": [
      "[[-3.9409726130631446, 7, array([4])], [-3.9111156642287286, 173, array([3])], [-3.825029271806814, 294, array([1])], [-3.770504701881484, 269, None], [-3.755096828756895, 100, array([4])], [-3.7531015979287297, 22, None], [-3.736519599145703, 346, array([4])], [-3.6742521204066927, 1299, None], [-3.6719673569070284, 1190, None], [-3.668543913648719, 613, None]]\n"
     ]
    }
   ],
   "source": [
    "print test_users_top10[test_users[8]]\n"
   ]
  },
  {
   "cell_type": "code",
   "execution_count": 196,
   "metadata": {
    "scrolled": true
   },
   "outputs": [
    {
     "name": "stdout",
     "output_type": "stream",
     "text": [
      "8\n"
     ]
    }
   ],
   "source": [
    "print hits[user]"
   ]
  },
  {
   "cell_type": "code",
   "execution_count": 127,
   "metadata": {},
   "outputs": [
    {
     "data": {
      "image/png": "[encoded data removed]",
      "text/plain": [
       "<Figure size 432x288 with 1 Axes>"
      ]
     },
     "metadata": {},
     "output_type": "display_data"
    }
   ],
   "source": [
    "x=np.zeros(25)\n",
    "y=np.zeros(25)\n",
    "ind=np.linspace(0,24,25)\n",
    "for i in range (0,25):\n",
    "    j = train_users[i]\n",
    "    x[i]=np.linalg.norm(param_users[j][0])\n",
    "    y[i]=np.linalg.norm(param_users[j][0])\n",
    "# plt.plot(ind,x,label='x')\n",
    "plt.plot(ind,y,label='y')\n",
    "plt.legend()\n",
    "plt.show()"
   ]
  },
  {
   "cell_type": "code",
   "execution_count": 146,
   "metadata": {},
   "outputs": [
    {
     "data": {
      "text/plain": [
       "'1.14.3'"
      ]
     },
     "execution_count": 146,
     "metadata": {},
     "output_type": "execute_result"
    }
   ],
   "source": []
  },
  {
   "cell_type": "code",
   "execution_count": null,
   "metadata": {},
   "outputs": [],
   "source": []
  },
  {
   "cell_type": "code",
   "execution_count": null,
   "metadata": {},
   "outputs": [],
   "source": []
  }
 ],
 "metadata": {
  "kernelspec": {
   "display_name": "Python 2",
   "language": "python",
   "name": "python2"
  },
  "language_info": {
   "codemirror_mode": {
    "name": "ipython",
    "version": 2
   },
   "file_extension": ".py",
   "mimetype": "text/x-python",
   "name": "python",
   "nbconvert_exporter": "python",
   "pygments_lexer": "ipython2",
   "version": "2.7.15"
  }
 },
 "nbformat": 4,
 "nbformat_minor": 2
}
