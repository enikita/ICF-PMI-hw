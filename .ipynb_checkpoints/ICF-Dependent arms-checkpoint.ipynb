{
 "cells": [
  {
   "cell_type": "code",
   "execution_count": null,
   "metadata": {},
   "outputs": [],
   "source": [
    "import numpy as np\n",
    "import random\n",
    "import pandas as pd\n",
    "import matplotlib.pyplot as plt"
   ]
  },
  {
   "cell_type": "code",
   "execution_count": null,
   "metadata": {},
   "outputs": [],
   "source": [
    "r_cols = ['user_id', 'movie_id', 'rating', 'unix_timestamp']\n",
    "ratings = pd.read_csv('ml-100k/u.data', sep='\\t', names=r_cols,\n",
    "                      encoding='latin-1')"
   ]
  },
  {
   "cell_type": "code",
   "execution_count": null,
   "metadata": {},
   "outputs": [],
   "source": [
    "k = 10\n",
    "\n",
    "users = ratings.user_id.unique()\n",
    "items = ratings.movie_id.unique()\n",
    "n_items = len(items)\n",
    "n_users = len(users)\n",
    "\n",
    "train_users = random.sample(users,660)\n",
    "mask = ratings['user_id'].isin(train_users)\n",
    "\n",
    "train_ratings = ratings.loc[mask]\n",
    "test_ratings = ratings.loc[~mask]\n",
    "\n",
    "print train_ratings.shape\n",
    "print test_ratings.shape\n"
   ]
  },
  {
   "cell_type": "code",
   "execution_count": null,
   "metadata": {},
   "outputs": [],
   "source": [
    "class Particle:\n",
    "    def _init_(self,m,n,p,q,sigma,phi,z, lambda_, alpha, beta,eta, mean, var):\n",
    "        self.m=m\n",
    "        self.n=n\n",
    "        self.p=p\n",
    "        self.q=q\n",
    "        self.sigma=sigma\n",
    "        self.phi=phi\n",
    "        self.z=z\n",
    "        self.lambda_=lambda_\n",
    "        self.alpha=alpha\n",
    "        self.beta=beta\n",
    "        self.eta=eta\n",
    "        self.mean=mean\n",
    "        self.var=var\n",
    "\n",
    "    \n",
    "    "
   ]
  },
  {
   "cell_type": "code",
   "execution_count": null,
   "metadata": {},
   "outputs": [],
   "source": [
    "particles={}\n",
    "B=10\n",
    "lambda_= np.ones((k,1))*1/k\n",
    "eta= np.ones((n_items,1))*1/n_items\n",
    "alpha=1\n",
    "beta=1\n",
    "mean= np.zeros((k,1))\n",
    "var=0.1*np.identity(k)\n",
    "\n",
    "for user in users:\n",
    "    particles[user]=[]\n",
    "    for b in range (0,B):\n",
    "        \n",
    "        particles[user][b]=Particle()"
   ]
  }
 ],
 "metadata": {
  "kernelspec": {
   "display_name": "Python 2",
   "language": "python",
   "name": "python2"
  },
  "language_info": {
   "codemirror_mode": {
    "name": "ipython",
    "version": 2
   },
   "file_extension": ".py",
   "mimetype": "text/x-python",
   "name": "python",
   "nbconvert_exporter": "python",
   "pygments_lexer": "ipython2",
   "version": "2.7.15"
  }
 },
 "nbformat": 4,
 "nbformat_minor": 2
}
