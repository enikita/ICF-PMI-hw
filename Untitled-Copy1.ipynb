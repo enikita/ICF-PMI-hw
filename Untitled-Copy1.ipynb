{
 "cells": [
  {
   "cell_type": "code",
   "execution_count": 50,
   "metadata": {},
   "outputs": [],
   "source": [
    "import numpy as np\n",
    "import random\n",
    "import pandas as pd\n",
    "import time\n",
    "import matplotlib.pyplot as plt"
   ]
  },
  {
   "cell_type": "code",
   "execution_count": 16,
   "metadata": {},
   "outputs": [],
   "source": [
    "r_cols = ['user_id', 'movie_id', 'rating', 'unix_timestamp']\n",
    "ratings = pd.read_csv('ml-100k/u.data', sep='\\t', names=r_cols,\n",
    "                      encoding='latin-1')"
   ]
  },
  {
   "cell_type": "code",
   "execution_count": 17,
   "metadata": {},
   "outputs": [
    {
     "name": "stdout",
     "output_type": "stream",
     "text": [
      "(73087, 4)\n",
      "(26913, 4)\n"
     ]
    }
   ],
   "source": [
    "##Data split: users\n",
    "k = 15\n",
    "\n",
    "users = ratings.user_id.unique()\n",
    "items = ratings.movie_id.unique()\n",
    "n_items = len(items)\n",
    "n_users = len(users)\n",
    "\n",
    "train_users = random.sample(users,660)\n",
    "mask = ratings['user_id'].isin(train_users)\n",
    "\n",
    "train_ratings = ratings.loc[mask]\n",
    "test_ratings = ratings.loc[~mask]\n",
    "\n",
    "print train_ratings.shape\n",
    "print test_ratings.shape\n",
    "\n"
   ]
  },
  {
   "cell_type": "code",
   "execution_count": 42,
   "metadata": {},
   "outputs": [],
   "source": [
    "user_films = {}\n",
    "\n",
    "for user in train_users:\n",
    "    rated_films = train_ratings['movie_id'].loc[train_ratings['user_id'] == user]\n",
    "    user_films[user] = list(rated_films.values)\n"
   ]
  },
  {
   "cell_type": "code",
   "execution_count": 43,
   "metadata": {},
   "outputs": [],
   "source": [
    "#Initialise\n",
    "sig_p = 0.1\n",
    "sig = 1\n",
    "lamda_p = sig/sig_p\n",
    "\n",
    "param_items = {}\n",
    "param_users = {}\n",
    "\n",
    "for item in items:\n",
    "    param_items[item] = [ np.zeros(k) , np.identity(k)*sig_p]\n",
    "\n",
    "for user in users:\n",
    "    param_users[user] = [ np.zeros(k) , np.identity(k)*sig_p]\n",
    "    \n"
   ]
  },
  {
   "cell_type": "code",
   "execution_count": 55,
   "metadata": {},
   "outputs": [],
   "source": [
    "#Train\n",
    "\n",
    "T = 10\n",
    "X=0.01*np.identity(k)\n",
    "for user in train_users[:25]:\n",
    "    A = np.identity(k)*lamda_p\n",
    "    b = np.zeros(k)\n",
    "    for _ in range(1,T):\n",
    "        try:\n",
    "            i = np.linalg.svd(A)\n",
    "            i = np.linalg.inv(A)\n",
    "        except np.linalg.LinAlgError as err:\n",
    "            print('error_A')\n",
    "            print(A)\n",
    "            break;\n",
    "        \n",
    "        param_users[user] = [np.matmul(np.linalg.inv(A),b), np.linalg.inv(A)*sig ]\n",
    "        p_u = np.random.multivariate_normal(param_users[user][0],param_users[user][1])\n",
    "        \n",
    "        item_star = 0\n",
    "        q_star = 0\n",
    "        reward_dot = float('-inf')\n",
    "        \n",
    "        #Get a q\n",
    "        random.shuffle(user_films[user])\n",
    "        for item in user_films[user]:\n",
    "            q_i = np.random.multivariate_normal(param_items[item][0],param_items[item][1])\n",
    "            r = np.matmul(p_u.T,q_i)\n",
    "            if (r > reward_dot):\n",
    "                reward_dot = r\n",
    "                item_star = item\n",
    "                q_star = q_i\n",
    "        \n",
    "#         print reward_dot\n",
    "        Actual_reward = ratings['rating'].loc[(ratings['user_id'] == user) &\n",
    "                                                      (ratings['movie_id'] == item)].values\n",
    "        \n",
    "        #User Updates\n",
    "        A = A+ np.matmul(q_i,q_i.T)\n",
    "        b = b+ Actual_reward*q_i\n",
    "        \n",
    "        #Item Updates\n",
    "        C = param_items[item_star][1]/sig\n",
    "        \n",
    "#         try:\n",
    "#             i = np.linalg.inv(C)\n",
    "#         except np.linalg.LinAlgError as err:\n",
    "#             print('error_Cx')\n",
    "#             break;\n",
    "        \n",
    "        \n",
    "        \n",
    "        C = np.linalg.inv(C)\n",
    "        d = np.matmul(C,param_items[item_star][0])\n",
    "        C = C+ np.matmul(p_u,p_u.T)\n",
    "        d = d+ Actual_reward*p_u\n",
    "        \n",
    "        try:\n",
    "            i = np.linalg.inv(C)\n",
    "            i = np.linalg.svd(C)\n",
    "        except np.linalg.LinAlgError as err:\n",
    "            print('error')\n",
    "            print(C)\n",
    "            continue;\n",
    "#     #handle it\n",
    "        \n",
    "        param_items[item] = [np.matmul(np.linalg.inv(C),d), np.linalg.inv(C)*sig]\n",
    "        user_films[user].remove(item_star)\n",
    "\n",
    "            \n",
    "            \n",
    "        \n",
    "        \n"
   ]
  },
  {
   "cell_type": "code",
   "execution_count": 56,
   "metadata": {},
   "outputs": [
    {
     "name": "stdout",
     "output_type": "stream",
     "text": [
      "[[2903861.23188746 2903850.80188746 2903850.80188747 2903850.80188747\n",
      "  2903850.80188746 2903850.80188747 2903850.80188746 2903850.80188746\n",
      "  2903850.80188746 2903850.80188747 2903850.80188746 2903850.80188746\n",
      "  2903850.80188747 2903850.80188747 2903850.80188747]\n",
      " [2903850.80188745 2903861.23188746 2903850.80188746 2903850.80188746\n",
      "  2903850.80188745 2903850.80188746 2903850.80188745 2903850.80188746\n",
      "  2903850.80188746 2903850.80188746 2903850.80188746 2903850.80188746\n",
      "  2903850.80188746 2903850.80188746 2903850.80188746]\n",
      " [2903850.80188745 2903850.80188746 2903861.23188746 2903850.80188746\n",
      "  2903850.80188746 2903850.80188746 2903850.80188746 2903850.80188746\n",
      "  2903850.80188746 2903850.80188746 2903850.80188746 2903850.80188746\n",
      "  2903850.80188746 2903850.80188746 2903850.80188746]\n",
      " [2903850.80188746 2903850.80188746 2903850.80188746 2903861.23188746\n",
      "  2903850.80188746 2903850.80188747 2903850.80188746 2903850.80188746\n",
      "  2903850.80188746 2903850.80188747 2903850.80188746 2903850.80188746\n",
      "  2903850.80188746 2903850.80188747 2903850.80188747]\n",
      " [2903850.80188746 2903850.80188746 2903850.80188746 2903850.80188746\n",
      "  2903861.23188746 2903850.80188746 2903850.80188746 2903850.80188746\n",
      "  2903850.80188746 2903850.80188746 2903850.80188746 2903850.80188746\n",
      "  2903850.80188746 2903850.80188747 2903850.80188747]\n",
      " [2903850.80188746 2903850.80188746 2903850.80188746 2903850.80188746\n",
      "  2903850.80188746 2903861.23188746 2903850.80188746 2903850.80188746\n",
      "  2903850.80188746 2903850.80188746 2903850.80188746 2903850.80188746\n",
      "  2903850.80188746 2903850.80188746 2903850.80188746]\n",
      " [2903850.80188746 2903850.80188746 2903850.80188746 2903850.80188746\n",
      "  2903850.80188746 2903850.80188746 2903861.23188745 2903850.80188746\n",
      "  2903850.80188746 2903850.80188746 2903850.80188746 2903850.80188746\n",
      "  2903850.80188746 2903850.80188746 2903850.80188746]\n",
      " [2903850.80188746 2903850.80188746 2903850.80188746 2903850.80188746\n",
      "  2903850.80188746 2903850.80188746 2903850.80188746 2903861.23188746\n",
      "  2903850.80188746 2903850.80188746 2903850.80188746 2903850.80188746\n",
      "  2903850.80188746 2903850.80188746 2903850.80188746]\n",
      " [2903850.80188746 2903850.80188746 2903850.80188746 2903850.80188746\n",
      "  2903850.80188746 2903850.80188746 2903850.80188746 2903850.80188746\n",
      "  2903861.23188746 2903850.80188746 2903850.80188746 2903850.80188746\n",
      "  2903850.80188746 2903850.80188746 2903850.80188746]\n",
      " [2903850.80188746 2903850.80188746 2903850.80188746 2903850.80188746\n",
      "  2903850.80188746 2903850.80188746 2903850.80188746 2903850.80188746\n",
      "  2903850.80188746 2903861.23188746 2903850.80188746 2903850.80188746\n",
      "  2903850.80188746 2903850.80188746 2903850.80188746]\n",
      " [2903850.80188746 2903850.80188746 2903850.80188746 2903850.80188746\n",
      "  2903850.80188746 2903850.80188746 2903850.80188745 2903850.80188746\n",
      "  2903850.80188746 2903850.80188746 2903861.23188746 2903850.80188746\n",
      "  2903850.80188746 2903850.80188746 2903850.80188746]\n",
      " [2903850.80188745 2903850.80188746 2903850.80188746 2903850.80188746\n",
      "  2903850.80188746 2903850.80188746 2903850.80188746 2903850.80188746\n",
      "  2903850.80188746 2903850.80188746 2903850.80188745 2903861.23188746\n",
      "  2903850.80188746 2903850.80188746 2903850.80188746]\n",
      " [2903850.80188746 2903850.80188746 2903850.80188746 2903850.80188746\n",
      "  2903850.80188746 2903850.80188747 2903850.80188746 2903850.80188746\n",
      "  2903850.80188746 2903850.80188747 2903850.80188746 2903850.80188746\n",
      "  2903861.23188746 2903850.80188747 2903850.80188747]\n",
      " [2903850.80188746 2903850.80188746 2903850.80188746 2903850.80188746\n",
      "  2903850.80188746 2903850.80188746 2903850.80188746 2903850.80188746\n",
      "  2903850.80188746 2903850.80188747 2903850.80188746 2903850.80188746\n",
      "  2903850.80188746 2903861.23188747 2903850.80188746]\n",
      " [2903850.80188746 2903850.80188746 2903850.80188746 2903850.80188746\n",
      "  2903850.80188746 2903850.80188746 2903850.80188746 2903850.80188746\n",
      "  2903850.80188746 2903850.80188746 2903850.80188746 2903850.80188746\n",
      "  2903850.80188746 2903850.80188747 2903861.23188746]]\n"
     ]
    }
   ],
   "source": [
    "print C"
   ]
  },
  {
   "cell_type": "code",
   "execution_count": 57,
   "metadata": {},
   "outputs": [
    {
     "name": "stdout",
     "output_type": "stream",
     "text": [
      "[[1284043.21207343 1284033.21207343 1284033.21207343 1284033.21207343\n",
      "  1284033.21207343 1284033.21207343 1284033.21207343 1284033.21207343\n",
      "  1284033.21207343 1284033.21207343 1284033.21207343 1284033.21207343\n",
      "  1284033.21207343 1284033.21207343 1284033.21207343]\n",
      " [1284033.21207343 1284043.21207343 1284033.21207343 1284033.21207343\n",
      "  1284033.21207343 1284033.21207343 1284033.21207343 1284033.21207343\n",
      "  1284033.21207343 1284033.21207343 1284033.21207343 1284033.21207343\n",
      "  1284033.21207343 1284033.21207343 1284033.21207343]\n",
      " [1284033.21207343 1284033.21207343 1284043.21207343 1284033.21207343\n",
      "  1284033.21207343 1284033.21207343 1284033.21207343 1284033.21207343\n",
      "  1284033.21207343 1284033.21207343 1284033.21207343 1284033.21207343\n",
      "  1284033.21207343 1284033.21207343 1284033.21207343]\n",
      " [1284033.21207343 1284033.21207343 1284033.21207343 1284043.21207343\n",
      "  1284033.21207343 1284033.21207343 1284033.21207343 1284033.21207343\n",
      "  1284033.21207343 1284033.21207343 1284033.21207343 1284033.21207343\n",
      "  1284033.21207343 1284033.21207343 1284033.21207343]\n",
      " [1284033.21207343 1284033.21207343 1284033.21207343 1284033.21207343\n",
      "  1284043.21207343 1284033.21207343 1284033.21207343 1284033.21207343\n",
      "  1284033.21207343 1284033.21207343 1284033.21207343 1284033.21207343\n",
      "  1284033.21207343 1284033.21207343 1284033.21207343]\n",
      " [1284033.21207343 1284033.21207343 1284033.21207343 1284033.21207343\n",
      "  1284033.21207343 1284043.21207343 1284033.21207343 1284033.21207343\n",
      "  1284033.21207343 1284033.21207343 1284033.21207343 1284033.21207343\n",
      "  1284033.21207343 1284033.21207343 1284033.21207343]\n",
      " [1284033.21207343 1284033.21207343 1284033.21207343 1284033.21207343\n",
      "  1284033.21207343 1284033.21207343 1284043.21207343 1284033.21207343\n",
      "  1284033.21207343 1284033.21207343 1284033.21207343 1284033.21207343\n",
      "  1284033.21207343 1284033.21207343 1284033.21207343]\n",
      " [1284033.21207343 1284033.21207343 1284033.21207343 1284033.21207343\n",
      "  1284033.21207343 1284033.21207343 1284033.21207343 1284043.21207343\n",
      "  1284033.21207343 1284033.21207343 1284033.21207343 1284033.21207343\n",
      "  1284033.21207343 1284033.21207343 1284033.21207343]\n",
      " [1284033.21207343 1284033.21207343 1284033.21207343 1284033.21207343\n",
      "  1284033.21207343 1284033.21207343 1284033.21207343 1284033.21207343\n",
      "  1284043.21207343 1284033.21207343 1284033.21207343 1284033.21207343\n",
      "  1284033.21207343 1284033.21207343 1284033.21207343]\n",
      " [1284033.21207343 1284033.21207343 1284033.21207343 1284033.21207343\n",
      "  1284033.21207343 1284033.21207343 1284033.21207343 1284033.21207343\n",
      "  1284033.21207343 1284043.21207343 1284033.21207343 1284033.21207343\n",
      "  1284033.21207343 1284033.21207343 1284033.21207343]\n",
      " [1284033.21207343 1284033.21207343 1284033.21207343 1284033.21207343\n",
      "  1284033.21207343 1284033.21207343 1284033.21207343 1284033.21207343\n",
      "  1284033.21207343 1284033.21207343 1284043.21207343 1284033.21207343\n",
      "  1284033.21207343 1284033.21207343 1284033.21207343]\n",
      " [1284033.21207343 1284033.21207343 1284033.21207343 1284033.21207343\n",
      "  1284033.21207343 1284033.21207343 1284033.21207343 1284033.21207343\n",
      "  1284033.21207343 1284033.21207343 1284033.21207343 1284043.21207343\n",
      "  1284033.21207343 1284033.21207343 1284033.21207343]\n",
      " [1284033.21207343 1284033.21207343 1284033.21207343 1284033.21207343\n",
      "  1284033.21207343 1284033.21207343 1284033.21207343 1284033.21207343\n",
      "  1284033.21207343 1284033.21207343 1284033.21207343 1284033.21207343\n",
      "  1284043.21207343 1284033.21207343 1284033.21207343]\n",
      " [1284033.21207343 1284033.21207343 1284033.21207343 1284033.21207343\n",
      "  1284033.21207343 1284033.21207343 1284033.21207343 1284033.21207343\n",
      "  1284033.21207343 1284033.21207343 1284033.21207343 1284033.21207343\n",
      "  1284033.21207343 1284043.21207343 1284033.21207343]\n",
      " [1284033.21207343 1284033.21207343 1284033.21207343 1284033.21207343\n",
      "  1284033.21207343 1284033.21207343 1284033.21207343 1284033.21207343\n",
      "  1284033.21207343 1284033.21207343 1284033.21207343 1284033.21207343\n",
      "  1284033.21207343 1284033.21207343 1284043.21207343]]\n",
      "[  803.95942859    65.49568702  -823.55679625   212.30956046\n",
      "  1172.85934267  -522.09086964   273.34073243 -1002.97991434\n",
      "  -456.7647845   1718.32890622  -394.74710727 -1917.1265078\n",
      "  -345.50490272   682.42233406   527.60555857]\n",
      "[  7115.99594172    578.97012231  -7319.40895906   1952.8314817\n",
      "  10457.8835241   -4603.84803103   2395.31243917  -8915.25576321\n",
      "  -4088.86016833  15268.31767311  -3544.68142939 -17080.07467598\n",
      "  -3022.11125168   6133.32267174   4661.50337455]\n"
     ]
    }
   ],
   "source": [
    "print A\n",
    "print b\n",
    "print d"
   ]
  },
  {
   "cell_type": "code",
   "execution_count": 58,
   "metadata": {
    "scrolled": true
   },
   "outputs": [],
   "source": [
    "c = train_ratings['movie_id'].loc[(train_ratings['user_id'] == 244) & (train_ratings['movie_id'] == user_films[1][1])]"
   ]
  },
  {
   "cell_type": "code",
   "execution_count": 59,
   "metadata": {},
   "outputs": [
    {
     "data": {
      "image/png": "[encoded data removed]",
      "text/plain": [
       "<Figure size 432x288 with 1 Axes>"
      ]
     },
     "metadata": {},
     "output_type": "display_data"
    }
   ],
   "source": [
    "x=np.zeros(25)\n",
    "y=np.zeros(25)\n",
    "ind=np.linspace(0,24,25)\n",
    "for i in range (0,25):\n",
    "    j = train_users[i]\n",
    "    x[i]=np.linalg.norm(param_users[j][0])\n",
    "    y[i]=np.linalg.norm(param_users[j][0])\n",
    "plt.plot(ind,x,label='x')\n",
    "#plt.plot(ind,y,label='y')\n",
    "plt.legend()\n",
    "plt.show()"
   ]
  },
  {
   "cell_type": "code",
   "execution_count": 146,
   "metadata": {},
   "outputs": [
    {
     "data": {
      "text/plain": [
       "'1.14.3'"
      ]
     },
     "execution_count": 146,
     "metadata": {},
     "output_type": "execute_result"
    }
   ],
   "source": []
  },
  {
   "cell_type": "code",
   "execution_count": null,
   "metadata": {},
   "outputs": [],
   "source": []
  },
  {
   "cell_type": "code",
   "execution_count": null,
   "metadata": {},
   "outputs": [],
   "source": []
  }
 ],
 "metadata": {
  "kernelspec": {
   "display_name": "Python 2",
   "language": "python",
   "name": "python2"
  },
  "language_info": {
   "codemirror_mode": {
    "name": "ipython",
    "version": 2
   },
   "file_extension": ".py",
   "mimetype": "text/x-python",
   "name": "python",
   "nbconvert_exporter": "python",
   "pygments_lexer": "ipython2",
   "version": "2.7.15"
  }
 },
 "nbformat": 4,
 "nbformat_minor": 2
}
